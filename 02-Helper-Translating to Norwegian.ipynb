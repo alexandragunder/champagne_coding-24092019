{
 "cells": [
  {
   "cell_type": "markdown",
   "metadata": {},
   "source": [
    "<div>\n",
    "<img src=\"images/icon_important.jpg\" width=\"50\" align=\"left\"/>\n",
    "</div>\n",
    "<br>\n",
    "<br>\n",
    "\n",
    "### __Important Legal Notice__\n",
    "By running and editing this Jupyter notebook with the corresponding dataset, you agree that you will not use or store the data for other purposes than participating in the Champagne Coding with DNB & Women in Data Science, Oslo. You will delete the data and notebook after the event and will not attempt to identify any of the commentors."
   ]
  },
  {
   "cell_type": "markdown",
   "metadata": {},
   "source": [
    "## Translating into English and cleaning up the data\n",
    "\n",
    "Most libraries for sentiment analysis only support English, except for ```polyglot```, which is rather problematic to install. For that reason, we made a short script to attempt to translate and make a consistent set of review comments. \n",
    "\n",
    "__Note__ that if you get ```HTTP Error``` due to ```Too many requests```, you need to have a VPN client to modify your IP if you wish to continue running the functions for translating."
   ]
  },
  {
   "cell_type": "code",
   "execution_count": 1,
   "metadata": {
    "scrolled": true
   },
   "outputs": [],
   "source": [
    "import pandas as pd\n",
    "from pathlib import Path\n",
    "current_directory = Path.cwd()\n",
    "reviews_directory = Path(current_directory, 'reviews')"
   ]
  },
  {
   "cell_type": "markdown",
   "metadata": {
    "scrolled": true
   },
   "source": [
    "Read the file containing DNB reviews."
   ]
  },
  {
   "cell_type": "code",
   "execution_count": 2,
   "metadata": {
    "scrolled": true
   },
   "outputs": [],
   "source": [
    "df = pd.read_csv(Path(reviews_directory, 'dnb_reviews.csv'))"
   ]
  },
  {
   "cell_type": "markdown",
   "metadata": {
    "scrolled": true
   },
   "source": [
    "Let's clean the data frame:\n",
    "- remove duplicates\n",
    "- delete empty rows\n",
    "- remove the string \"Full Review\" from the ```Review Text``` column"
   ]
  },
  {
   "cell_type": "code",
   "execution_count": 3,
   "metadata": {
    "scrolled": true
   },
   "outputs": [],
   "source": [
    "df.drop_duplicates(inplace=True)\n",
    "df.dropna(inplace=True)\n",
    "df = df.drop(['Unnamed: 0'], axis=1)\n",
    "df['Review_Text'] = df['Review_Text'].map(lambda text: text.replace(\"...Full Review\", \"\"))"
   ]
  },
  {
   "cell_type": "markdown",
   "metadata": {},
   "source": [
    "#### Language Detection\n",
    "Before we can translate, we need to know what language are reviews are in."
   ]
  },
  {
   "cell_type": "code",
   "execution_count": 4,
   "metadata": {
    "scrolled": true
   },
   "outputs": [],
   "source": [
    "from textblob import TextBlob\n",
    "from nltk.tokenize import sent_tokenize # for tokenizing into sentences\n",
    "import statistics"
   ]
  },
  {
   "cell_type": "code",
   "execution_count": 5,
   "metadata": {
    "scrolled": true
   },
   "outputs": [
    {
     "name": "stdout",
     "output_type": "stream",
     "text": [
      "no\n",
      "en\n"
     ]
    }
   ],
   "source": [
    "from langdetect import detect\n",
    "print(detect(\"Har ikke root tilgang, kommer fortsatt ikke\"))\n",
    "print(detect(\"The best way to accses dnb\"))"
   ]
  },
  {
   "cell_type": "markdown",
   "metadata": {},
   "source": [
    "A helper function to find the language on a given text string."
   ]
  },
  {
   "cell_type": "code",
   "execution_count": 6,
   "metadata": {
    "scrolled": true
   },
   "outputs": [],
   "source": [
    "def detect_lang(text):\n",
    "    if (detect(text) == 'en'):\n",
    "        return 'en'\n",
    "    if (detect(text) == 'no'):\n",
    "        return 'no'\n",
    "    else:\n",
    "        return 'no'"
   ]
  },
  {
   "cell_type": "code",
   "execution_count": 7,
   "metadata": {
    "scrolled": true
   },
   "outputs": [
    {
     "data": {
      "text/plain": [
       "array(['en', 'no'], dtype=object)"
      ]
     },
     "execution_count": 7,
     "metadata": {},
     "output_type": "execute_result"
    }
   ],
   "source": [
    "df['Language'] = df['Review_Text'].apply(detect_lang)\n",
    "\n",
    "df['Language'].unique()"
   ]
  },
  {
   "cell_type": "markdown",
   "metadata": {},
   "source": [
    "Let's explore the results- do the they make sense?"
   ]
  },
  {
   "cell_type": "code",
   "execution_count": 8,
   "metadata": {
    "scrolled": true
   },
   "outputs": [
    {
     "data": {
      "text/plain": [
       "0    complete trash. used to be ok. its hardly an a...\n",
       "1    \"sim tool launches before the page is done loa...\n",
       "2    worst app ever? slower and affords less privac...\n",
       "3    i have been using the old and new version of t...\n",
       "4    har ikke root tilgang, kommer fortsatt ikke in...\n",
       "5    this is the best app to know how much you have...\n",
       "6    almost never works. often try to log in but ge...\n",
       "7    after the recent update, i can now log into th...\n",
       "8    i like the fact that it is easy to access my a...\n",
       "9    very unreliable, but when it works its pretty ...\n",
       "Name: Review_Text, dtype: object"
      ]
     },
     "execution_count": 8,
     "metadata": {},
     "output_type": "execute_result"
    }
   ],
   "source": [
    "df[df['Language']=='en']['Review_Text'][:10]"
   ]
  },
  {
   "cell_type": "code",
   "execution_count": 9,
   "metadata": {
    "scrolled": true
   },
   "outputs": [
    {
     "data": {
      "text/plain": [
       "31                              new version is very good\n",
       "33                                   worst bank app ever\n",
       "168                           you're missing night mode.\n",
       "197                  can't log in after update error1012\n",
       "200                                          didn't work\n",
       "204                             horrible after update...\n",
       "207                                         doesn't work\n",
       "213                                  it does not work 🙄🙄\n",
       "217    edit: fungerer etter å reinstallere. fungerer ...\n",
       "218    appen er helt grei. den viser saldo og siste t...\n",
       "Name: Review_Text, dtype: object"
      ]
     },
     "execution_count": 9,
     "metadata": {},
     "output_type": "execute_result"
    }
   ],
   "source": [
    "df[df['Language']=='no']['Review_Text'][:10]"
   ]
  },
  {
   "cell_type": "markdown",
   "metadata": {},
   "source": [
    "How many of the records are English or Norwegian?"
   ]
  },
  {
   "cell_type": "code",
   "execution_count": 10,
   "metadata": {
    "scrolled": true
   },
   "outputs": [
    {
     "data": {
      "text/plain": [
       "(307, 4)"
      ]
     },
     "execution_count": 10,
     "metadata": {},
     "output_type": "execute_result"
    }
   ],
   "source": [
    "df[df['Language']=='en'].shape"
   ]
  },
  {
   "cell_type": "code",
   "execution_count": 11,
   "metadata": {
    "scrolled": true
   },
   "outputs": [
    {
     "data": {
      "text/plain": [
       "(587, 4)"
      ]
     },
     "execution_count": 11,
     "metadata": {},
     "output_type": "execute_result"
    }
   ],
   "source": [
    "df[df['Language']=='no'].shape"
   ]
  },
  {
   "cell_type": "markdown",
   "metadata": {},
   "source": [
    "#### Translation\n",
    "Now that we know which language our reviews are in, we can use Google's Translator API to translate from Norwegian to English."
   ]
  },
  {
   "cell_type": "code",
   "execution_count": 12,
   "metadata": {
    "scrolled": true
   },
   "outputs": [
    {
     "name": "stdout",
     "output_type": "stream",
     "text": [
      "I do not have money\n"
     ]
    }
   ],
   "source": [
    "from googletrans import Translator\n",
    "translator = Translator()\n",
    "try:\n",
    "    print(translator.translate('Jeg har ikke penger', src='no').text)\n",
    "except:\n",
    "    print('Error, returning same string')"
   ]
  },
  {
   "cell_type": "markdown",
   "metadata": {},
   "source": [
    "Translate the Norwegian reviews to english by applying our function.\n",
    "\n",
    "__Note__ that if you get ```HTTP Error``` due to ```Too many requests```, you need to have a VPN client to modify your IP if you wish to continue running the functions for translating."
   ]
  },
  {
   "cell_type": "code",
   "execution_count": 13,
   "metadata": {
    "scrolled": true
   },
   "outputs": [],
   "source": [
    "import sys\n",
    "\n",
    "def translate_to_eng(text):\n",
    "    try:\n",
    "        return translator.translate(text, src='no').text\n",
    "    except:\n",
    "        emoji_stripped_text = text.encode('ascii', 'ignore').decode('ascii')\n",
    "        try:\n",
    "            return translator.translate(emoji_stripped_text, src='no').text\n",
    "        except:\n",
    "            print('Error, returning same string:\\n', text)\n",
    "            return text#, sys.exit('Exited with error.') # added sys exit so it doesn't try to translate continuously\n",
    "    return text"
   ]
  },
  {
   "cell_type": "code",
   "execution_count": 14,
   "metadata": {
    "scrolled": true
   },
   "outputs": [
    {
     "name": "stdout",
     "output_type": "stream",
     "text": [
      "Error, returning same string:\n",
      " kommer ikke inn (error 1015)\n",
      "Error, returning same string:\n",
      " funksjonene jeg har brukt i denne appen, har utelukkende vært for å sjekke saldo, sjekke valuta kurs, og bruke vipps (de hadde en snarvei inne i appen tidligere). jeg nå nå logge inn for å sjekke saldo, ikke at det egentlig gjør meg noe som helst, men valuta kurs og vipps snarveien er nå borte, de j...full review\n",
      "Error, returning same string:\n",
      " den nye versjonen er flere steg tilbake fra den forrige. færre funksjoner og mer klønete grensesnitt.\n",
      "Error, returning same string:\n",
      " feilmelding 1010 ved innlogging. ingen info om denne meldingen på nettsiden. avinstallert og installert igjen. ingen endring. tømt app data, ingen endring.\n",
      "Error, returning same string:\n",
      " og plutselig gjorde dere appen nytteløs for meg. om jeg velger å roote telefonen min, så er det mitt valg og risiko. nå som jeg ikke lengre kan benytte appen på telefonen min så kan ikke jeg ha dnb som hovedbank lengre. edit: det går helt fint, det var ikke så vanskelig å skjule root. andre med samm...full review\n",
      "Error, returning same string:\n",
      " etter den nye oppdateringen 14.01.19 så force closer den seg med engang jeg åpner den! skikkelig møkka app!\n",
      "Error, returning same string:\n",
      " hele appen er jo bare linker til nettsiden. problemer å logge på med bank id også. elendig.\n",
      "Error, returning same string:\n",
      " 16/01/19: fra en som jobber med både apputvikling og android custom roms kan jeg si at den nye appen hadde tatt seg bedre ut som en aprilsnarr.. protip: skru av auto-oppdater eller installer en eldre versjon fra apkmirror.\n",
      "Error, returning same string:\n",
      " ikke en app, inneholder linker til nettleser som åpner diverse rot. that's it. ubrukelig. prøv sbanken.\n",
      "Error, returning same string:\n",
      " opplever den som utdatert. hadde vært fint om appen fungerte som nettbank i stedet for å sende oss videre til nettleseren for å logge inn der. liker derimot at det er mulig å se saldo på de ulike kontoene👍\n",
      "Error, returning same string:\n",
      " de slapp den nye appen alt for tidlig. jeg måtte re-installere på grunn av mye ustabiliteter, men fikk pent tilbake den gamle. de har altså rullet tilbake. dette er tragisk\n",
      "Error, returning same string:\n",
      " greier dere å gjøre en dårligere jobb? to måneder etter review fikk jeg svar fra utvikler, allerede byttet bank nå pga elendig mobil nettbank. aldri opplevd så tregt / sent svar fra en utvikler før på google store, dette er skammelig dnb!\n",
      "Error, returning same string:\n",
      " hadde vært fint om det gikk an å logge inn/starte appen.....fikk ikke beholde den gamle mobilappen heller. nå har jeg ikke noe bank på mobilen. gratulerer! kan ikke gi noe rating her = 0(null)\n",
      "Error, returning same string:\n",
      " den nye appen funker ikke med lineageos. og ingen saldo uten å logge inn? kommer seinere? i en widget!? rofl\n",
      "Error, returning same string:\n",
      " ubrukelig utgave av mobilbank forsøkt vist som app\n",
      "Error, returning same string:\n",
      " dårlig. gi oss tilbake den gamle appen.\n",
      "Error, returning same string:\n",
      " funker jo ikke overhodet .\n",
      "Error, returning same string:\n",
      " krasjer hele tiden\n",
      "Error, returning same string:\n",
      " bad work\n",
      "Error, returning same string:\n",
      " dnb er best\n",
      "Error, returning same string:\n",
      " dere driver å sier at appen har blitt raskere etter oppdateringen... den har faktisk blitt utrolig treg. i tillegg den fingeravtrykken funker jo aldri. må logge inn med bank id hver gang jeg skal sjekke saldo på kortet mitt. det tar 5minuter med unødvendig venting bare for å sjekke saldoen min. den ...full review\n",
      "Error, returning same string:\n",
      " her har dere feilet på alle områder. når dere lanserer noe nytt så burde dere også brukerne selv bestemme om de vil bruke den nye appen eller ikke. dere bør tilby den gamle appen for de som ønsker den og den nye til de som vil ha den. widget? nei takk. dere har jo tatt vekk det som gjorde den gamle ...full review\n",
      "Error, returning same string:\n",
      " søppel app siden man må reinstallere appen etter og ha oppdatert mobilen. det er noe unødvendig tull i fra dnb sin side og appen er alt for treg.. bruker heller vips for og sjekke saldoen min.\n",
      "Error, returning same string:\n",
      " igjen et firma som lurer kundene, feil informere om produkter, gir ikke oversikt paa laan, makt syk firma, forliksraadet neste\n",
      "Error, returning same string:\n",
      " velkommen til 90tallet....\n",
      "Error, returning same string:\n",
      " jeg syns dnb skal fikse appen for jeg får ikke registrert meg med bankid, kommer opp en feil melding hver eneste gang jeg prøver, not good for business. fiks det.\n",
      "Error, returning same string:\n",
      " gikk akkurat over til norges største bank og angrer allerede. en app og nettbank som har design og brukervennlighet fra steinalderen. beholder min gamle bank som dagligbank kun på grunn av dette. alt annet virket å være bra, men nettbank og app er det som er av betydning nå om dagen\n",
      "Error, returning same string:\n",
      " syns det er en bra ting at man må logge inn når så mye funksjonalitet ligger i appen og med biometrics er ikke dette noe problem. appen har en widget for de som bare vil se saldo, men denne syns jeg burde inkludere muligheten til å endre bakgrunnsfarge på (mørk) eller gjøres gjennomsiktig for å matc...full review\n"
     ]
    }
   ],
   "source": [
    "df['Review_Eng'] = df[df['Language']=='no']['Review_Text'].apply(translate_to_eng)"
   ]
  },
  {
   "cell_type": "markdown",
   "metadata": {},
   "source": [
    "Fill out the column ```Review_Eng``` with the reviews that were originally in English. This way we have a complete column of reviews exclusively in English."
   ]
  },
  {
   "cell_type": "code",
   "execution_count": 15,
   "metadata": {
    "scrolled": true
   },
   "outputs": [
    {
     "data": {
      "text/html": [
       "<div>\n",
       "<style scoped>\n",
       "    .dataframe tbody tr th:only-of-type {\n",
       "        vertical-align: middle;\n",
       "    }\n",
       "\n",
       "    .dataframe tbody tr th {\n",
       "        vertical-align: top;\n",
       "    }\n",
       "\n",
       "    .dataframe thead th {\n",
       "        text-align: right;\n",
       "    }\n",
       "</style>\n",
       "<table border=\"1\" class=\"dataframe\">\n",
       "  <thead>\n",
       "    <tr style=\"text-align: right;\">\n",
       "      <th></th>\n",
       "      <th>Review_Eng</th>\n",
       "      <th>Review_Text</th>\n",
       "      <th>Language</th>\n",
       "    </tr>\n",
       "  </thead>\n",
       "  <tbody>\n",
       "    <tr>\n",
       "      <td>459</td>\n",
       "      <td>must log in with BankID for mobile phones ever...</td>\n",
       "      <td>må logge inn med bankid på mobil hver gang, da...</td>\n",
       "      <td>no</td>\n",
       "    </tr>\n",
       "    <tr>\n",
       "      <td>462</td>\n",
       "      <td>does not work, stop the logging. has rebooted ...</td>\n",
       "      <td>virker ikke, stopper opp på innloggingen. har ...</td>\n",
       "      <td>no</td>\n",
       "    </tr>\n",
       "    <tr>\n",
       "      <td>221</td>\n",
       "      <td>come on dnb .. this app has been on the market...</td>\n",
       "      <td>kom igjen da dnb.. denne appen har vært på mar...</td>\n",
       "      <td>no</td>\n",
       "    </tr>\n",
       "    <tr>\n",
       "      <td>336</td>\n",
       "      <td>I tend not to write such feedback, but here I ...</td>\n",
       "      <td>jeg pleier ikke å skrive slike tilbakemeldinge...</td>\n",
       "      <td>no</td>\n",
       "    </tr>\n",
       "    <tr>\n",
       "      <td>316</td>\n",
       "      <td>cant even log in ..</td>\n",
       "      <td>cant even log in..</td>\n",
       "      <td>no</td>\n",
       "    </tr>\n",
       "    <tr>\n",
       "      <td>782</td>\n",
       "      <td>\"There has been an error.\" 'Nuff said. dnb, sh...</td>\n",
       "      <td>\"det har oppstått en feil.\" 'nuff said. dnb, s...</td>\n",
       "      <td>no</td>\n",
       "    </tr>\n",
       "    <tr>\n",
       "      <td>359</td>\n",
       "      <td>very poor app! can not log in even though I us...</td>\n",
       "      <td>svært dårlig app! får ikke logge meg inn selvo...</td>\n",
       "      <td>no</td>\n",
       "    </tr>\n",
       "    <tr>\n",
       "      <td>389</td>\n",
       "      <td>do not update, stick to the old app, this is s...</td>\n",
       "      <td>ikke oppdater, hold deg til den gamle appen,de...</td>\n",
       "      <td>no</td>\n",
       "    </tr>\n",
       "    <tr>\n",
       "      <td>608</td>\n",
       "      <td>velkommen til 90tallet....</td>\n",
       "      <td>velkommen til 90tallet....</td>\n",
       "      <td>no</td>\n",
       "    </tr>\n",
       "    <tr>\n",
       "      <td>871</td>\n",
       "      <td>can not log in to see the balance</td>\n",
       "      <td>kan ikke logge inn for å se saldo</td>\n",
       "      <td>no</td>\n",
       "    </tr>\n",
       "  </tbody>\n",
       "</table>\n",
       "</div>"
      ],
      "text/plain": [
       "                                            Review_Eng  \\\n",
       "459  must log in with BankID for mobile phones ever...   \n",
       "462  does not work, stop the logging. has rebooted ...   \n",
       "221  come on dnb .. this app has been on the market...   \n",
       "336  I tend not to write such feedback, but here I ...   \n",
       "316                                cant even log in ..   \n",
       "782  \"There has been an error.\" 'Nuff said. dnb, sh...   \n",
       "359  very poor app! can not log in even though I us...   \n",
       "389  do not update, stick to the old app, this is s...   \n",
       "608                         velkommen til 90tallet....   \n",
       "871                  can not log in to see the balance   \n",
       "\n",
       "                                           Review_Text Language  \n",
       "459  må logge inn med bankid på mobil hver gang, da...       no  \n",
       "462  virker ikke, stopper opp på innloggingen. har ...       no  \n",
       "221  kom igjen da dnb.. denne appen har vært på mar...       no  \n",
       "336  jeg pleier ikke å skrive slike tilbakemeldinge...       no  \n",
       "316                                 cant even log in..       no  \n",
       "782  \"det har oppstått en feil.\" 'nuff said. dnb, s...       no  \n",
       "359  svært dårlig app! får ikke logge meg inn selvo...       no  \n",
       "389  ikke oppdater, hold deg til den gamle appen,de...       no  \n",
       "608                         velkommen til 90tallet....       no  \n",
       "871                  kan ikke logge inn for å se saldo       no  "
      ]
     },
     "execution_count": 15,
     "metadata": {},
     "output_type": "execute_result"
    }
   ],
   "source": [
    "df.loc[df['Language'] == 'en', 'Review_Eng'] = df['Review_Text']\n",
    "\n",
    "df[df['Language'] == 'no'][[\"Review_Eng\", \"Review_Text\", \"Language\"]].sample(10)"
   ]
  },
  {
   "cell_type": "markdown",
   "metadata": {},
   "source": [
    "Still some left without translating..."
   ]
  },
  {
   "cell_type": "code",
   "execution_count": 16,
   "metadata": {},
   "outputs": [
    {
     "data": {
      "text/plain": [
       "(61, 2)"
      ]
     },
     "execution_count": 16,
     "metadata": {},
     "output_type": "execute_result"
    }
   ],
   "source": [
    "df.query('(Review_Text == Review_Eng) and Language == \"no\"')[['Review_Text', 'Review_Eng']].shape"
   ]
  },
  {
   "cell_type": "markdown",
   "metadata": {
    "scrolled": true
   },
   "source": [
    "#### Textblob\n",
    "\n",
    "Let's try another library. "
   ]
  },
  {
   "cell_type": "code",
   "execution_count": 17,
   "metadata": {
    "scrolled": true
   },
   "outputs": [],
   "source": [
    "def translate_to_eng_textblob(text):\n",
    "    text_blob = TextBlob(text)\n",
    "    if text_blob.detect_language() != 'en':\n",
    "        try:\n",
    "            text_blob = text_blob.translate(to='en')\n",
    "        except:\n",
    "            #do nothing\n",
    "            return str(text_blob)\n",
    "    return str(text_blob)"
   ]
  },
  {
   "cell_type": "markdown",
   "metadata": {
    "scrolled": true
   },
   "source": [
    "This one works on small amounts of requests, otherwise it complains on \"too many requests\"."
   ]
  },
  {
   "cell_type": "code",
   "execution_count": 18,
   "metadata": {},
   "outputs": [],
   "source": [
    "df['textblob_Translate'] = df.query('(Review_Text == Review_Eng) and Language == \"no\"')['Review_Text'].apply(translate_to_eng_textblob)"
   ]
  },
  {
   "cell_type": "code",
   "execution_count": 19,
   "metadata": {},
   "outputs": [],
   "source": [
    "df.loc[df['textblob_Translate'].notnull(), 'Review_Eng'] = df['textblob_Translate']"
   ]
  },
  {
   "cell_type": "markdown",
   "metadata": {},
   "source": [
    "How do the results look? We can see some that were incorrectly classified as Norwegian."
   ]
  },
  {
   "cell_type": "code",
   "execution_count": 20,
   "metadata": {},
   "outputs": [
    {
     "data": {
      "text/html": [
       "<div>\n",
       "<style scoped>\n",
       "    .dataframe tbody tr th:only-of-type {\n",
       "        vertical-align: middle;\n",
       "    }\n",
       "\n",
       "    .dataframe tbody tr th {\n",
       "        vertical-align: top;\n",
       "    }\n",
       "\n",
       "    .dataframe thead th {\n",
       "        text-align: right;\n",
       "    }\n",
       "</style>\n",
       "<table border=\"1\" class=\"dataframe\">\n",
       "  <thead>\n",
       "    <tr style=\"text-align: right;\">\n",
       "      <th></th>\n",
       "      <th>Review_Text</th>\n",
       "      <th>Review_Eng</th>\n",
       "      <th>Language</th>\n",
       "    </tr>\n",
       "  </thead>\n",
       "  <tbody>\n",
       "    <tr>\n",
       "      <td>31</td>\n",
       "      <td>new version is very good</td>\n",
       "      <td>new version is very good</td>\n",
       "      <td>no</td>\n",
       "    </tr>\n",
       "    <tr>\n",
       "      <td>168</td>\n",
       "      <td>you're missing night mode.</td>\n",
       "      <td>you're missing night mode.</td>\n",
       "      <td>no</td>\n",
       "    </tr>\n",
       "    <tr>\n",
       "      <td>229</td>\n",
       "      <td>ok app</td>\n",
       "      <td>ok app</td>\n",
       "      <td>no</td>\n",
       "    </tr>\n",
       "    <tr>\n",
       "      <td>248</td>\n",
       "      <td>all good!</td>\n",
       "      <td>all good!</td>\n",
       "      <td>no</td>\n",
       "    </tr>\n",
       "    <tr>\n",
       "      <td>249</td>\n",
       "      <td>excellent</td>\n",
       "      <td>excellent</td>\n",
       "      <td>no</td>\n",
       "    </tr>\n",
       "    <tr>\n",
       "      <td>284</td>\n",
       "      <td>ok app</td>\n",
       "      <td>ok app</td>\n",
       "      <td>no</td>\n",
       "    </tr>\n",
       "    <tr>\n",
       "      <td>320</td>\n",
       "      <td>wow</td>\n",
       "      <td>wow</td>\n",
       "      <td>no</td>\n",
       "    </tr>\n",
       "    <tr>\n",
       "      <td>321</td>\n",
       "      <td>bah</td>\n",
       "      <td>bah</td>\n",
       "      <td>no</td>\n",
       "    </tr>\n",
       "    <tr>\n",
       "      <td>334</td>\n",
       "      <td>it's good</td>\n",
       "      <td>it's good</td>\n",
       "      <td>no</td>\n",
       "    </tr>\n",
       "    <tr>\n",
       "      <td>335</td>\n",
       "      <td>gooooood</td>\n",
       "      <td>gooooood</td>\n",
       "      <td>no</td>\n",
       "    </tr>\n",
       "    <tr>\n",
       "      <td>494</td>\n",
       "      <td>not working</td>\n",
       "      <td>not working</td>\n",
       "      <td>no</td>\n",
       "    </tr>\n",
       "    <tr>\n",
       "      <td>499</td>\n",
       "      <td>very bad. .....</td>\n",
       "      <td>very bad. .....</td>\n",
       "      <td>no</td>\n",
       "    </tr>\n",
       "    <tr>\n",
       "      <td>501</td>\n",
       "      <td>eeeeuuuurrrgggg</td>\n",
       "      <td>eeeeuuuurrrgggg</td>\n",
       "      <td>no</td>\n",
       "    </tr>\n",
       "    <tr>\n",
       "      <td>502</td>\n",
       "      <td>excellent</td>\n",
       "      <td>excellent</td>\n",
       "      <td>no</td>\n",
       "    </tr>\n",
       "    <tr>\n",
       "      <td>585</td>\n",
       "      <td>bad work</td>\n",
       "      <td>bad work</td>\n",
       "      <td>no</td>\n",
       "    </tr>\n",
       "    <tr>\n",
       "      <td>611</td>\n",
       "      <td>ghhhh</td>\n",
       "      <td>ghhhh</td>\n",
       "      <td>no</td>\n",
       "    </tr>\n",
       "    <tr>\n",
       "      <td>612</td>\n",
       "      <td>useless</td>\n",
       "      <td>useless</td>\n",
       "      <td>no</td>\n",
       "    </tr>\n",
       "    <tr>\n",
       "      <td>681</td>\n",
       "      <td>fingerprint support spliiis</td>\n",
       "      <td>fingerprint support spliiis</td>\n",
       "      <td>no</td>\n",
       "    </tr>\n",
       "    <tr>\n",
       "      <td>685</td>\n",
       "      <td>good</td>\n",
       "      <td>good</td>\n",
       "      <td>no</td>\n",
       "    </tr>\n",
       "    <tr>\n",
       "      <td>725</td>\n",
       "      <td>useless.</td>\n",
       "      <td>useless.</td>\n",
       "      <td>no</td>\n",
       "    </tr>\n",
       "    <tr>\n",
       "      <td>750</td>\n",
       "      <td>big problem for me</td>\n",
       "      <td>big problem for me</td>\n",
       "      <td>no</td>\n",
       "    </tr>\n",
       "    <tr>\n",
       "      <td>755</td>\n",
       "      <td>network error.</td>\n",
       "      <td>network error.</td>\n",
       "      <td>no</td>\n",
       "    </tr>\n",
       "    <tr>\n",
       "      <td>758</td>\n",
       "      <td>not so bad mobile client</td>\n",
       "      <td>not so bad mobile client</td>\n",
       "      <td>no</td>\n",
       "    </tr>\n",
       "    <tr>\n",
       "      <td>761</td>\n",
       "      <td>5 stars</td>\n",
       "      <td>5 stars</td>\n",
       "      <td>no</td>\n",
       "    </tr>\n",
       "    <tr>\n",
       "      <td>762</td>\n",
       "      <td>wow</td>\n",
       "      <td>wow</td>\n",
       "      <td>no</td>\n",
       "    </tr>\n",
       "    <tr>\n",
       "      <td>763</td>\n",
       "      <td>love it</td>\n",
       "      <td>love it</td>\n",
       "      <td>no</td>\n",
       "    </tr>\n",
       "    <tr>\n",
       "      <td>774</td>\n",
       "      <td>since last update</td>\n",
       "      <td>since last update</td>\n",
       "      <td>no</td>\n",
       "    </tr>\n",
       "    <tr>\n",
       "      <td>775</td>\n",
       "      <td>very good tool</td>\n",
       "      <td>very good tool</td>\n",
       "      <td>no</td>\n",
       "    </tr>\n",
       "    <tr>\n",
       "      <td>776</td>\n",
       "      <td>fantastic</td>\n",
       "      <td>fantastic</td>\n",
       "      <td>no</td>\n",
       "    </tr>\n",
       "    <tr>\n",
       "      <td>892</td>\n",
       "      <td>great!</td>\n",
       "      <td>great!</td>\n",
       "      <td>no</td>\n",
       "    </tr>\n",
       "    <tr>\n",
       "      <td>893</td>\n",
       "      <td>excellent</td>\n",
       "      <td>excellent</td>\n",
       "      <td>no</td>\n",
       "    </tr>\n",
       "    <tr>\n",
       "      <td>894</td>\n",
       "      <td>nice</td>\n",
       "      <td>nice</td>\n",
       "      <td>no</td>\n",
       "    </tr>\n",
       "    <tr>\n",
       "      <td>895</td>\n",
       "      <td>superb</td>\n",
       "      <td>superb</td>\n",
       "      <td>no</td>\n",
       "    </tr>\n",
       "  </tbody>\n",
       "</table>\n",
       "</div>"
      ],
      "text/plain": [
       "                     Review_Text                   Review_Eng Language\n",
       "31      new version is very good     new version is very good       no\n",
       "168   you're missing night mode.   you're missing night mode.       no\n",
       "229                       ok app                       ok app       no\n",
       "248                    all good!                    all good!       no\n",
       "249                    excellent                    excellent       no\n",
       "284                       ok app                       ok app       no\n",
       "320                          wow                          wow       no\n",
       "321                          bah                          bah       no\n",
       "334                    it's good                    it's good       no\n",
       "335                     gooooood                     gooooood       no\n",
       "494                  not working                  not working       no\n",
       "499              very bad. .....              very bad. .....       no\n",
       "501              eeeeuuuurrrgggg              eeeeuuuurrrgggg       no\n",
       "502                    excellent                    excellent       no\n",
       "585                     bad work                     bad work       no\n",
       "611                        ghhhh                        ghhhh       no\n",
       "612                      useless                      useless       no\n",
       "681  fingerprint support spliiis  fingerprint support spliiis       no\n",
       "685                         good                         good       no\n",
       "725                     useless.                     useless.       no\n",
       "750           big problem for me           big problem for me       no\n",
       "755               network error.               network error.       no\n",
       "758     not so bad mobile client     not so bad mobile client       no\n",
       "761                      5 stars                      5 stars       no\n",
       "762                          wow                          wow       no\n",
       "763                      love it                      love it       no\n",
       "774            since last update            since last update       no\n",
       "775               very good tool               very good tool       no\n",
       "776                    fantastic                    fantastic       no\n",
       "892                       great!                       great!       no\n",
       "893                    excellent                    excellent       no\n",
       "894                         nice                         nice       no\n",
       "895                       superb                       superb       no"
      ]
     },
     "execution_count": 20,
     "metadata": {},
     "output_type": "execute_result"
    }
   ],
   "source": [
    "df.query('(Review_Text == Review_Eng) and Language == \"no\"')[['Review_Text', 'Review_Eng', 'Language']]"
   ]
  },
  {
   "cell_type": "markdown",
   "metadata": {},
   "source": [
    "Let's classify those as English."
   ]
  },
  {
   "cell_type": "code",
   "execution_count": 21,
   "metadata": {},
   "outputs": [],
   "source": [
    "df.loc[df.query('(Review_Text == Review_Eng) and Language == \"no\"').index, 'Language'] = 'en'"
   ]
  },
  {
   "cell_type": "markdown",
   "metadata": {},
   "source": [
    "#### Review the results"
   ]
  },
  {
   "cell_type": "code",
   "execution_count": 22,
   "metadata": {},
   "outputs": [
    {
     "data": {
      "text/html": [
       "<div>\n",
       "<style scoped>\n",
       "    .dataframe tbody tr th:only-of-type {\n",
       "        vertical-align: middle;\n",
       "    }\n",
       "\n",
       "    .dataframe tbody tr th {\n",
       "        vertical-align: top;\n",
       "    }\n",
       "\n",
       "    .dataframe thead th {\n",
       "        text-align: right;\n",
       "    }\n",
       "</style>\n",
       "<table border=\"1\" class=\"dataframe\">\n",
       "  <thead>\n",
       "    <tr style=\"text-align: right;\">\n",
       "      <th></th>\n",
       "      <th>Review_Text</th>\n",
       "      <th>Review_Eng</th>\n",
       "    </tr>\n",
       "  </thead>\n",
       "  <tbody>\n",
       "    <tr>\n",
       "      <td>717</td>\n",
       "      <td>the app is not practical at all, learn somethi...</td>\n",
       "      <td>the app is not practical at all, learn somethi...</td>\n",
       "    </tr>\n",
       "    <tr>\n",
       "      <td>10</td>\n",
       "      <td>the few last updates are horrible. i have to l...</td>\n",
       "      <td>the few last updates are horrible. i have to l...</td>\n",
       "    </tr>\n",
       "    <tr>\n",
       "      <td>199</td>\n",
       "      <td>good to use this app</td>\n",
       "      <td>good to use this app</td>\n",
       "    </tr>\n",
       "    <tr>\n",
       "      <td>153</td>\n",
       "      <td>basically just a fancy shortcut to the web bro...</td>\n",
       "      <td>basically just a fancy shortcut to the web bro...</td>\n",
       "    </tr>\n",
       "    <tr>\n",
       "      <td>742</td>\n",
       "      <td>does nothing, just redirecting to website, whi...</td>\n",
       "      <td>does nothing, just redirecting to website, whi...</td>\n",
       "    </tr>\n",
       "    <tr>\n",
       "      <td>498</td>\n",
       "      <td>nothing works....</td>\n",
       "      <td>nothing works....</td>\n",
       "    </tr>\n",
       "    <tr>\n",
       "      <td>7</td>\n",
       "      <td>after the recent update, i can now log into th...</td>\n",
       "      <td>after the recent update, i can now log into th...</td>\n",
       "    </tr>\n",
       "    <tr>\n",
       "      <td>142</td>\n",
       "      <td>i can no longer login to the app or to the mob...</td>\n",
       "      <td>i can no longer login to the app or to the mob...</td>\n",
       "    </tr>\n",
       "    <tr>\n",
       "      <td>187</td>\n",
       "      <td>not anymore possible to login by fingerprint</td>\n",
       "      <td>not anymore possible to login by fingerprint</td>\n",
       "    </tr>\n",
       "    <tr>\n",
       "      <td>650</td>\n",
       "      <td>never works and i am always frustrated....dnb,...</td>\n",
       "      <td>never works and i am always frustrated....dnb,...</td>\n",
       "    </tr>\n",
       "  </tbody>\n",
       "</table>\n",
       "</div>"
      ],
      "text/plain": [
       "                                           Review_Text  \\\n",
       "717  the app is not practical at all, learn somethi...   \n",
       "10   the few last updates are horrible. i have to l...   \n",
       "199                               good to use this app   \n",
       "153  basically just a fancy shortcut to the web bro...   \n",
       "742  does nothing, just redirecting to website, whi...   \n",
       "498                                  nothing works....   \n",
       "7    after the recent update, i can now log into th...   \n",
       "142  i can no longer login to the app or to the mob...   \n",
       "187       not anymore possible to login by fingerprint   \n",
       "650  never works and i am always frustrated....dnb,...   \n",
       "\n",
       "                                            Review_Eng  \n",
       "717  the app is not practical at all, learn somethi...  \n",
       "10   the few last updates are horrible. i have to l...  \n",
       "199                               good to use this app  \n",
       "153  basically just a fancy shortcut to the web bro...  \n",
       "742  does nothing, just redirecting to website, whi...  \n",
       "498                                  nothing works....  \n",
       "7    after the recent update, i can now log into th...  \n",
       "142  i can no longer login to the app or to the mob...  \n",
       "187       not anymore possible to login by fingerprint  \n",
       "650  never works and i am always frustrated....dnb,...  "
      ]
     },
     "execution_count": 22,
     "metadata": {},
     "output_type": "execute_result"
    }
   ],
   "source": [
    "df[df['Language'] == 'en'][['Review_Text', 'Review_Eng']].sample(10)"
   ]
  },
  {
   "cell_type": "code",
   "execution_count": 23,
   "metadata": {},
   "outputs": [
    {
     "data": {
      "text/html": [
       "<div>\n",
       "<style scoped>\n",
       "    .dataframe tbody tr th:only-of-type {\n",
       "        vertical-align: middle;\n",
       "    }\n",
       "\n",
       "    .dataframe tbody tr th {\n",
       "        vertical-align: top;\n",
       "    }\n",
       "\n",
       "    .dataframe thead th {\n",
       "        text-align: right;\n",
       "    }\n",
       "</style>\n",
       "<table border=\"1\" class=\"dataframe\">\n",
       "  <thead>\n",
       "    <tr style=\"text-align: right;\">\n",
       "      <th></th>\n",
       "      <th>Review_Text</th>\n",
       "      <th>Review_Eng</th>\n",
       "    </tr>\n",
       "  </thead>\n",
       "  <tbody>\n",
       "    <tr>\n",
       "      <td>369</td>\n",
       "      <td>den nye oppdateringen er helt forferdelig. den...</td>\n",
       "      <td>the new update is absolutely terrible. it has ...</td>\n",
       "    </tr>\n",
       "    <tr>\n",
       "      <td>417</td>\n",
       "      <td>etter ny oppdatering, så er appen næremere en ...</td>\n",
       "      <td>after new update, then the app close more a ba...</td>\n",
       "    </tr>\n",
       "    <tr>\n",
       "      <td>874</td>\n",
       "      <td>ble fra bra til svart dårlig</td>\n",
       "      <td>was from good to poor black</td>\n",
       "    </tr>\n",
       "    <tr>\n",
       "      <td>545</td>\n",
       "      <td>virker veldig bra</td>\n",
       "      <td>work very well</td>\n",
       "    </tr>\n",
       "    <tr>\n",
       "      <td>261</td>\n",
       "      <td>har nå brukt denne appen en god stund. biometr...</td>\n",
       "      <td>have now used this app for a while. biometric ...</td>\n",
       "    </tr>\n",
       "    <tr>\n",
       "      <td>392</td>\n",
       "      <td>appen var ok før. nå er den helt ubrukelig. in...</td>\n",
       "      <td>app was ok before. Now it is completely useles...</td>\n",
       "    </tr>\n",
       "    <tr>\n",
       "      <td>296</td>\n",
       "      <td>appen er veldig utdatert og stygg. ser ut som ...</td>\n",
       "      <td>app is really outdated and ugly. looks like it...</td>\n",
       "    </tr>\n",
       "    <tr>\n",
       "      <td>455</td>\n",
       "      <td>den gamle virket. det gjør ikke denne. får ikk...</td>\n",
       "      <td>the old wood. it does not do this. Can not log...</td>\n",
       "    </tr>\n",
       "    <tr>\n",
       "      <td>273</td>\n",
       "      <td>ubrukelig. får ikke til å initialisere appen, ...</td>\n",
       "      <td>useless. am unable to initialize the app, even...</td>\n",
       "    </tr>\n",
       "    <tr>\n",
       "      <td>252</td>\n",
       "      <td>fin. nyttig. liker i prinsippet oppdateringen,...</td>\n",
       "      <td>fine. useful. like in principle patch, had får...</td>\n",
       "    </tr>\n",
       "  </tbody>\n",
       "</table>\n",
       "</div>"
      ],
      "text/plain": [
       "                                           Review_Text  \\\n",
       "369  den nye oppdateringen er helt forferdelig. den...   \n",
       "417  etter ny oppdatering, så er appen næremere en ...   \n",
       "874                       ble fra bra til svart dårlig   \n",
       "545                                  virker veldig bra   \n",
       "261  har nå brukt denne appen en god stund. biometr...   \n",
       "392  appen var ok før. nå er den helt ubrukelig. in...   \n",
       "296  appen er veldig utdatert og stygg. ser ut som ...   \n",
       "455  den gamle virket. det gjør ikke denne. får ikk...   \n",
       "273  ubrukelig. får ikke til å initialisere appen, ...   \n",
       "252  fin. nyttig. liker i prinsippet oppdateringen,...   \n",
       "\n",
       "                                            Review_Eng  \n",
       "369  the new update is absolutely terrible. it has ...  \n",
       "417  after new update, then the app close more a ba...  \n",
       "874                        was from good to poor black  \n",
       "545                                     work very well  \n",
       "261  have now used this app for a while. biometric ...  \n",
       "392  app was ok before. Now it is completely useles...  \n",
       "296  app is really outdated and ugly. looks like it...  \n",
       "455  the old wood. it does not do this. Can not log...  \n",
       "273  useless. am unable to initialize the app, even...  \n",
       "252  fine. useful. like in principle patch, had får...  "
      ]
     },
     "execution_count": 23,
     "metadata": {},
     "output_type": "execute_result"
    }
   ],
   "source": [
    "df[df['Language'] == 'no'][['Review_Text', 'Review_Eng']].sample(10)"
   ]
  },
  {
   "cell_type": "markdown",
   "metadata": {},
   "source": [
    "### Anonymizing the names."
   ]
  },
  {
   "cell_type": "code",
   "execution_count": 24,
   "metadata": {},
   "outputs": [
    {
     "name": "stdout",
     "output_type": "stream",
     "text": [
      "This dataframe doesn't contain any names to be anonymized.\n"
     ]
    }
   ],
   "source": [
    "from faker import Faker\n",
    "fake = Faker('no_NO')\n",
    "\n",
    "def anonymous_name (text):\n",
    "    return fake.name()\n",
    "try:\n",
    "    df['Name'] = df['Name'].apply(anonymous_name)\n",
    "except:\n",
    "    print(\"This dataframe doesn't contain any names to be anonymized.\")"
   ]
  },
  {
   "cell_type": "code",
   "execution_count": 25,
   "metadata": {},
   "outputs": [
    {
     "data": {
      "text/html": [
       "<div>\n",
       "<style scoped>\n",
       "    .dataframe tbody tr th:only-of-type {\n",
       "        vertical-align: middle;\n",
       "    }\n",
       "\n",
       "    .dataframe tbody tr th {\n",
       "        vertical-align: top;\n",
       "    }\n",
       "\n",
       "    .dataframe thead th {\n",
       "        text-align: right;\n",
       "    }\n",
       "</style>\n",
       "<table border=\"1\" class=\"dataframe\">\n",
       "  <thead>\n",
       "    <tr style=\"text-align: right;\">\n",
       "      <th></th>\n",
       "      <th>Date</th>\n",
       "      <th>Review_Score</th>\n",
       "      <th>Review_Text</th>\n",
       "      <th>Language</th>\n",
       "      <th>Review_Eng</th>\n",
       "      <th>textblob_Translate</th>\n",
       "    </tr>\n",
       "  </thead>\n",
       "  <tbody>\n",
       "    <tr>\n",
       "      <td>309</td>\n",
       "      <td>March 14, 2019</td>\n",
       "      <td>3</td>\n",
       "      <td>etter oppdatering av android fikk jeg beskjed ...</td>\n",
       "      <td>no</td>\n",
       "      <td>after updating the android I was told to reins...</td>\n",
       "      <td>NaN</td>\n",
       "    </tr>\n",
       "    <tr>\n",
       "      <td>448</td>\n",
       "      <td>March 14, 2019</td>\n",
       "      <td>1</td>\n",
       "      <td>innlogging med finger avtrykk funker ikke.. må...</td>\n",
       "      <td>no</td>\n",
       "      <td>login with fingerprint does not work .. must u...</td>\n",
       "      <td>NaN</td>\n",
       "    </tr>\n",
       "    <tr>\n",
       "      <td>297</td>\n",
       "      <td>March 25, 2019</td>\n",
       "      <td>1</td>\n",
       "      <td>ubrukelig dritt app etter nye oppdatering må j...</td>\n",
       "      <td>no</td>\n",
       "      <td>useless crap app for new updates I have to log...</td>\n",
       "      <td>NaN</td>\n",
       "    </tr>\n",
       "    <tr>\n",
       "      <td>381</td>\n",
       "      <td>February 24, 2019</td>\n",
       "      <td>1</td>\n",
       "      <td>etter stor-oppdateringen har jeg ikke kunnet l...</td>\n",
       "      <td>no</td>\n",
       "      <td>after major update I have not been able to log...</td>\n",
       "      <td>NaN</td>\n",
       "    </tr>\n",
       "    <tr>\n",
       "      <td>580</td>\n",
       "      <td>March 20, 2019</td>\n",
       "      <td>1</td>\n",
       "      <td>dårlig. gi oss tilbake den gamle appen.</td>\n",
       "      <td>no</td>\n",
       "      <td>bad. give us back the old app.</td>\n",
       "      <td>bad. give us back the old app.</td>\n",
       "    </tr>\n",
       "    <tr>\n",
       "      <td>682</td>\n",
       "      <td>November 2, 2017</td>\n",
       "      <td>3</td>\n",
       "      <td>den er ok.</td>\n",
       "      <td>no</td>\n",
       "      <td>It is OK.</td>\n",
       "      <td>NaN</td>\n",
       "    </tr>\n",
       "    <tr>\n",
       "      <td>238</td>\n",
       "      <td>July 19, 2019</td>\n",
       "      <td>1</td>\n",
       "      <td>det virker ikke å overføre mellom kontoer, som...</td>\n",
       "      <td>no</td>\n",
       "      <td>it does not transfer between accounts, which i...</td>\n",
       "      <td>NaN</td>\n",
       "    </tr>\n",
       "    <tr>\n",
       "      <td>452</td>\n",
       "      <td>January 26, 2019</td>\n",
       "      <td>1</td>\n",
       "      <td>nye oppdateringen er skikkelig dårlig, den for...</td>\n",
       "      <td>no</td>\n",
       "      <td>new update is really bad, the last app was muc...</td>\n",
       "      <td>NaN</td>\n",
       "    </tr>\n",
       "    <tr>\n",
       "      <td>318</td>\n",
       "      <td>March 16, 2019</td>\n",
       "      <td>1</td>\n",
       "      <td>elendig fingeravtrykk login</td>\n",
       "      <td>no</td>\n",
       "      <td>lousy fingerprint login</td>\n",
       "      <td>NaN</td>\n",
       "    </tr>\n",
       "    <tr>\n",
       "      <td>453</td>\n",
       "      <td>February 12, 2019</td>\n",
       "      <td>5</td>\n",
       "      <td>etter jeg sletta og installerte appen igjen ku...</td>\n",
       "      <td>no</td>\n",
       "      <td>after i deleted and installed the app I could ...</td>\n",
       "      <td>NaN</td>\n",
       "    </tr>\n",
       "  </tbody>\n",
       "</table>\n",
       "</div>"
      ],
      "text/plain": [
       "                  Date  Review_Score  \\\n",
       "309     March 14, 2019             3   \n",
       "448     March 14, 2019             1   \n",
       "297     March 25, 2019             1   \n",
       "381  February 24, 2019             1   \n",
       "580     March 20, 2019             1   \n",
       "682   November 2, 2017             3   \n",
       "238      July 19, 2019             1   \n",
       "452   January 26, 2019             1   \n",
       "318     March 16, 2019             1   \n",
       "453  February 12, 2019             5   \n",
       "\n",
       "                                           Review_Text Language  \\\n",
       "309  etter oppdatering av android fikk jeg beskjed ...       no   \n",
       "448  innlogging med finger avtrykk funker ikke.. må...       no   \n",
       "297  ubrukelig dritt app etter nye oppdatering må j...       no   \n",
       "381  etter stor-oppdateringen har jeg ikke kunnet l...       no   \n",
       "580            dårlig. gi oss tilbake den gamle appen.       no   \n",
       "682                                         den er ok.       no   \n",
       "238  det virker ikke å overføre mellom kontoer, som...       no   \n",
       "452  nye oppdateringen er skikkelig dårlig, den for...       no   \n",
       "318                        elendig fingeravtrykk login       no   \n",
       "453  etter jeg sletta og installerte appen igjen ku...       no   \n",
       "\n",
       "                                            Review_Eng  \\\n",
       "309  after updating the android I was told to reins...   \n",
       "448  login with fingerprint does not work .. must u...   \n",
       "297  useless crap app for new updates I have to log...   \n",
       "381  after major update I have not been able to log...   \n",
       "580                     bad. give us back the old app.   \n",
       "682                                          It is OK.   \n",
       "238  it does not transfer between accounts, which i...   \n",
       "452  new update is really bad, the last app was muc...   \n",
       "318                            lousy fingerprint login   \n",
       "453  after i deleted and installed the app I could ...   \n",
       "\n",
       "                 textblob_Translate  \n",
       "309                             NaN  \n",
       "448                             NaN  \n",
       "297                             NaN  \n",
       "381                             NaN  \n",
       "580  bad. give us back the old app.  \n",
       "682                             NaN  \n",
       "238                             NaN  \n",
       "452                             NaN  \n",
       "318                             NaN  \n",
       "453                             NaN  "
      ]
     },
     "execution_count": 25,
     "metadata": {},
     "output_type": "execute_result"
    }
   ],
   "source": [
    "df[df['Language'] == 'no'].sample(10)"
   ]
  },
  {
   "cell_type": "code",
   "execution_count": 26,
   "metadata": {},
   "outputs": [
    {
     "data": {
      "text/html": [
       "<div>\n",
       "<style scoped>\n",
       "    .dataframe tbody tr th:only-of-type {\n",
       "        vertical-align: middle;\n",
       "    }\n",
       "\n",
       "    .dataframe tbody tr th {\n",
       "        vertical-align: top;\n",
       "    }\n",
       "\n",
       "    .dataframe thead th {\n",
       "        text-align: right;\n",
       "    }\n",
       "</style>\n",
       "<table border=\"1\" class=\"dataframe\">\n",
       "  <thead>\n",
       "    <tr style=\"text-align: right;\">\n",
       "      <th></th>\n",
       "      <th>Date</th>\n",
       "      <th>Review_Score</th>\n",
       "      <th>Review_Text</th>\n",
       "      <th>Language</th>\n",
       "      <th>Review_Eng</th>\n",
       "      <th>textblob_Translate</th>\n",
       "    </tr>\n",
       "  </thead>\n",
       "  <tbody>\n",
       "    <tr>\n",
       "      <td>792</td>\n",
       "      <td>April 25, 2013</td>\n",
       "      <td>4</td>\n",
       "      <td>does all the important things</td>\n",
       "      <td>en</td>\n",
       "      <td>does all the important things</td>\n",
       "      <td>NaN</td>\n",
       "    </tr>\n",
       "    <tr>\n",
       "      <td>117</td>\n",
       "      <td>January 17, 2019</td>\n",
       "      <td>1</td>\n",
       "      <td>it was so good before, that i could check my a...</td>\n",
       "      <td>en</td>\n",
       "      <td>it was so good before, that i could check my a...</td>\n",
       "      <td>NaN</td>\n",
       "    </tr>\n",
       "    <tr>\n",
       "      <td>60</td>\n",
       "      <td>March 10, 2019</td>\n",
       "      <td>1</td>\n",
       "      <td>this app is just an appified web page that req...</td>\n",
       "      <td>en</td>\n",
       "      <td>this app is just an appified web page that req...</td>\n",
       "      <td>NaN</td>\n",
       "    </tr>\n",
       "    <tr>\n",
       "      <td>132</td>\n",
       "      <td>May 31, 2019</td>\n",
       "      <td>1</td>\n",
       "      <td>crashes 9 of 10 times</td>\n",
       "      <td>en</td>\n",
       "      <td>crashes 9 of 10 times</td>\n",
       "      <td>NaN</td>\n",
       "    </tr>\n",
       "    <tr>\n",
       "      <td>50</td>\n",
       "      <td>March 30, 2019</td>\n",
       "      <td>1</td>\n",
       "      <td>app asked me for uninstalling and installing o...</td>\n",
       "      <td>en</td>\n",
       "      <td>app asked me for uninstalling and installing o...</td>\n",
       "      <td>NaN</td>\n",
       "    </tr>\n",
       "    <tr>\n",
       "      <td>112</td>\n",
       "      <td>March 15, 2019</td>\n",
       "      <td>1</td>\n",
       "      <td>out of all the 500 chatacters im allowed to wr...</td>\n",
       "      <td>en</td>\n",
       "      <td>out of all the 500 chatacters im allowed to wr...</td>\n",
       "      <td>NaN</td>\n",
       "    </tr>\n",
       "    <tr>\n",
       "      <td>796</td>\n",
       "      <td>April 9, 2013</td>\n",
       "      <td>5</td>\n",
       "      <td>i can now see my balance on all account withou...</td>\n",
       "      <td>en</td>\n",
       "      <td>i can now see my balance on all account withou...</td>\n",
       "      <td>NaN</td>\n",
       "    </tr>\n",
       "    <tr>\n",
       "      <td>35</td>\n",
       "      <td>May 16, 2019</td>\n",
       "      <td>4</td>\n",
       "      <td>works so far, but how do i change it to show i...</td>\n",
       "      <td>en</td>\n",
       "      <td>works so far, but how do i change it to show i...</td>\n",
       "      <td>NaN</td>\n",
       "    </tr>\n",
       "    <tr>\n",
       "      <td>622</td>\n",
       "      <td>October 19, 2016</td>\n",
       "      <td>2</td>\n",
       "      <td>before ot was a reallu good app but its imposs...</td>\n",
       "      <td>en</td>\n",
       "      <td>before ot was a reallu good app but its imposs...</td>\n",
       "      <td>NaN</td>\n",
       "    </tr>\n",
       "    <tr>\n",
       "      <td>91</td>\n",
       "      <td>January 31, 2019</td>\n",
       "      <td>1</td>\n",
       "      <td>claims my brand new phone is rooted and blocks...</td>\n",
       "      <td>en</td>\n",
       "      <td>claims my brand new phone is rooted and blocks...</td>\n",
       "      <td>NaN</td>\n",
       "    </tr>\n",
       "  </tbody>\n",
       "</table>\n",
       "</div>"
      ],
      "text/plain": [
       "                 Date  Review_Score  \\\n",
       "792    April 25, 2013             4   \n",
       "117  January 17, 2019             1   \n",
       "60     March 10, 2019             1   \n",
       "132      May 31, 2019             1   \n",
       "50     March 30, 2019             1   \n",
       "112    March 15, 2019             1   \n",
       "796     April 9, 2013             5   \n",
       "35       May 16, 2019             4   \n",
       "622  October 19, 2016             2   \n",
       "91   January 31, 2019             1   \n",
       "\n",
       "                                           Review_Text Language  \\\n",
       "792                      does all the important things       en   \n",
       "117  it was so good before, that i could check my a...       en   \n",
       "60   this app is just an appified web page that req...       en   \n",
       "132                              crashes 9 of 10 times       en   \n",
       "50   app asked me for uninstalling and installing o...       en   \n",
       "112  out of all the 500 chatacters im allowed to wr...       en   \n",
       "796  i can now see my balance on all account withou...       en   \n",
       "35   works so far, but how do i change it to show i...       en   \n",
       "622  before ot was a reallu good app but its imposs...       en   \n",
       "91   claims my brand new phone is rooted and blocks...       en   \n",
       "\n",
       "                                            Review_Eng textblob_Translate  \n",
       "792                      does all the important things                NaN  \n",
       "117  it was so good before, that i could check my a...                NaN  \n",
       "60   this app is just an appified web page that req...                NaN  \n",
       "132                              crashes 9 of 10 times                NaN  \n",
       "50   app asked me for uninstalling and installing o...                NaN  \n",
       "112  out of all the 500 chatacters im allowed to wr...                NaN  \n",
       "796  i can now see my balance on all account withou...                NaN  \n",
       "35   works so far, but how do i change it to show i...                NaN  \n",
       "622  before ot was a reallu good app but its imposs...                NaN  \n",
       "91   claims my brand new phone is rooted and blocks...                NaN  "
      ]
     },
     "execution_count": 26,
     "metadata": {},
     "output_type": "execute_result"
    }
   ],
   "source": [
    "df[df['Language'] == 'en'].sample(10)"
   ]
  },
  {
   "cell_type": "code",
   "execution_count": 27,
   "metadata": {},
   "outputs": [],
   "source": [
    "df = df.drop(['textblob_Translate'], axis=1)\n",
    "\n",
    "df.to_csv(Path(reviews_directory,'dnb_reviews_final.csv'))"
   ]
  }
 ],
 "metadata": {
  "kernelspec": {
   "display_name": "Python 3",
   "language": "python",
   "name": "python3"
  },
  "language_info": {
   "codemirror_mode": {
    "name": "ipython",
    "version": 3
   },
   "file_extension": ".py",
   "mimetype": "text/x-python",
   "name": "python",
   "nbconvert_exporter": "python",
   "pygments_lexer": "ipython3",
   "version": "3.7.4"
  }
 },
 "nbformat": 4,
 "nbformat_minor": 2
}
